{
  "nbformat": 4,
  "nbformat_minor": 0,
  "metadata": {
    "colab": {
      "provenance": [],
      "collapsed_sections": [
        "gNTlz5P9a3dJ",
        "mzbjCnuXbAu8",
        "3xXrbNHIlsSE",
        "SQIgY8U7bF4E",
        "LKmd7DyybTRL",
        "eGGavpzBcOUt",
        "GWkA-zrMmkoJ",
        "t1Kehz0VmuVO",
        "WkiraphXnniJ",
        "OffE90itoftG",
        "gYlfKSNKpKkF"
      ]
    },
    "kernelspec": {
      "name": "python3",
      "display_name": "Python 3"
    },
    "language_info": {
      "name": "python"
    }
  },
  "cells": [
    {
      "cell_type": "code",
      "execution_count": null,
      "metadata": {
        "colab": {
          "base_uri": "https://localhost:8080/"
        },
        "id": "OKbd_m0vYucA",
        "outputId": "a0affddc-3032-425b-bff7-508a541c1707"
      },
      "outputs": [
        {
          "output_type": "stream",
          "name": "stdout",
          "text": [
            "TensorFlow version: 2.18.0\n"
          ]
        }
      ],
      "source": [
        "import tensorflow as tf\n",
        "print(\"TensorFlow version:\", tf.__version__)"
      ]
    },
    {
      "cell_type": "markdown",
      "source": [
        "# Scalar or Zero Dim Tensor"
      ],
      "metadata": {
        "id": "gNTlz5P9a3dJ"
      }
    },
    {
      "cell_type": "code",
      "source": [
        "tensor_zero_d = tf.constant(4)\n",
        "print(tensor_zero_d)"
      ],
      "metadata": {
        "colab": {
          "base_uri": "https://localhost:8080/"
        },
        "id": "9efjPr-aZD3N",
        "outputId": "c6ba2655-0375-486d-c125-e3bb7b15002f"
      },
      "execution_count": null,
      "outputs": [
        {
          "output_type": "stream",
          "name": "stdout",
          "text": [
            "tf.Tensor(4, shape=(), dtype=int32)\n"
          ]
        }
      ]
    },
    {
      "cell_type": "markdown",
      "source": [
        "# One Dimensional Tensor"
      ],
      "metadata": {
        "id": "mzbjCnuXbAu8"
      }
    },
    {
      "cell_type": "code",
      "source": [
        "tensor_one_d_int = tf.constant([2,3,4,5])\n",
        "print(tensor_one_d_int)"
      ],
      "metadata": {
        "colab": {
          "base_uri": "https://localhost:8080/"
        },
        "id": "_4NSWTmxaR1_",
        "outputId": "a4b899f0-6e4c-40ab-8d1d-393db2806e53"
      },
      "execution_count": null,
      "outputs": [
        {
          "output_type": "stream",
          "name": "stdout",
          "text": [
            "tf.Tensor([2 3 4 5], shape=(4,), dtype=int32)\n"
          ]
        }
      ]
    },
    {
      "cell_type": "code",
      "source": [
        "tensor_one_d_float = tf.constant([2,3,4,5.])\n",
        "print(tensor_one_d_float)"
      ],
      "metadata": {
        "colab": {
          "base_uri": "https://localhost:8080/"
        },
        "id": "0Tykf8r_atMS",
        "outputId": "e1e98a66-9a81-4fc2-9ddd-1eaf0d3b94da"
      },
      "execution_count": null,
      "outputs": [
        {
          "output_type": "stream",
          "name": "stdout",
          "text": [
            "tf.Tensor([2. 3. 4. 5.], shape=(4,), dtype=float32)\n"
          ]
        }
      ]
    },
    {
      "cell_type": "code",
      "source": [
        "tensor_one_d_float = tf.constant([2,3,4,5],dtype=tf.float32)\n",
        "print(tensor_one_d_float)"
      ],
      "metadata": {
        "colab": {
          "base_uri": "https://localhost:8080/"
        },
        "id": "bZHeWVL8lkEL",
        "outputId": "79aea94e-40a7-4b1f-b347-b7509a8a73f0"
      },
      "execution_count": null,
      "outputs": [
        {
          "output_type": "stream",
          "name": "stdout",
          "text": [
            "tf.Tensor([2. 3. 4. 5.], shape=(4,), dtype=float32)\n"
          ]
        }
      ]
    },
    {
      "cell_type": "markdown",
      "source": [
        "# Type Casting"
      ],
      "metadata": {
        "id": "3xXrbNHIlsSE"
      }
    },
    {
      "cell_type": "code",
      "source": [
        "int_type_casted_tensor = tf.cast(tensor_one_d_float,dtype=tf.int32)\n",
        "bool_type_casted_tensor = tf.cast(tensor_one_d_float,dtype=tf.bool)\n",
        "print(int_type_casted_tensor)\n",
        "print(bool_type_casted_tensor)"
      ],
      "metadata": {
        "colab": {
          "base_uri": "https://localhost:8080/"
        },
        "id": "aKn0-exEluL0",
        "outputId": "35e5a9b2-ca35-4a10-ec81-b3f88ee2d847"
      },
      "execution_count": null,
      "outputs": [
        {
          "output_type": "stream",
          "name": "stdout",
          "text": [
            "tf.Tensor([2 3 4 5], shape=(4,), dtype=int32)\n",
            "tf.Tensor([ True  True  True  True], shape=(4,), dtype=bool)\n"
          ]
        }
      ]
    },
    {
      "cell_type": "markdown",
      "source": [
        "# Two Dimensional Tensor"
      ],
      "metadata": {
        "id": "SQIgY8U7bF4E"
      }
    },
    {
      "cell_type": "code",
      "source": [
        "tensor_two_d = tf.constant([[2,3,4,5],[2,3,4,5]])\n",
        "print(tensor_two_d)"
      ],
      "metadata": {
        "colab": {
          "base_uri": "https://localhost:8080/"
        },
        "id": "GOt7N3VFbITT",
        "outputId": "31291e99-af96-4d6c-dc33-b3384eb41b76"
      },
      "execution_count": null,
      "outputs": [
        {
          "output_type": "stream",
          "name": "stdout",
          "text": [
            "tf.Tensor(\n",
            "[[2 3 4 5]\n",
            " [2 3 4 5]], shape=(2, 4), dtype=int32)\n"
          ]
        }
      ]
    },
    {
      "cell_type": "markdown",
      "source": [
        "# Three Dimensional Tensor"
      ],
      "metadata": {
        "id": "LKmd7DyybTRL"
      }
    },
    {
      "cell_type": "code",
      "source": [
        "tensor_three_d = tf.constant([[[2,3,4,5],[2,3,4,5]],[[2,3,4,5],[2,3,4,5]]])\n",
        "print(tensor_three_d)"
      ],
      "metadata": {
        "colab": {
          "base_uri": "https://localhost:8080/"
        },
        "id": "84PT4C21bMXF",
        "outputId": "bf680bc3-226d-4428-a2c8-1a09a91d44d7"
      },
      "execution_count": null,
      "outputs": [
        {
          "output_type": "stream",
          "name": "stdout",
          "text": [
            "tf.Tensor(\n",
            "[[[2 3 4 5]\n",
            "  [2 3 4 5]]\n",
            "\n",
            " [[2 3 4 5]\n",
            "  [2 3 4 5]]], shape=(2, 2, 4), dtype=int32)\n"
          ]
        }
      ]
    },
    {
      "cell_type": "markdown",
      "source": [
        "# Four Dimensional Tensor"
      ],
      "metadata": {
        "id": "eGGavpzBcOUt"
      }
    },
    {
      "cell_type": "code",
      "source": [
        "tensor_four_d = tf.constant([[[[2,3,4,5],[2,3,4,5]],[[2,3,4,5],[2,3,4,5]]],[[[2,3,4,5],[2,3,4,5]],[[2,3,4,5],[2,3,4,5]]],[[[2,3,4,5],[2,3,4,5]],[[2,3,4,5],[2,3,4,5]]]])\n",
        "print(tensor_four_d)"
      ],
      "metadata": {
        "colab": {
          "base_uri": "https://localhost:8080/"
        },
        "collapsed": true,
        "id": "I2ceXXI9cIpe",
        "outputId": "160f1755-dd07-4cd9-bce0-98d56e932fe6"
      },
      "execution_count": null,
      "outputs": [
        {
          "output_type": "stream",
          "name": "stdout",
          "text": [
            "tf.Tensor(\n",
            "[[[[2 3 4 5]\n",
            "   [2 3 4 5]]\n",
            "\n",
            "  [[2 3 4 5]\n",
            "   [2 3 4 5]]]\n",
            "\n",
            "\n",
            " [[[2 3 4 5]\n",
            "   [2 3 4 5]]\n",
            "\n",
            "  [[2 3 4 5]\n",
            "   [2 3 4 5]]]\n",
            "\n",
            "\n",
            " [[[2 3 4 5]\n",
            "   [2 3 4 5]]\n",
            "\n",
            "  [[2 3 4 5]\n",
            "   [2 3 4 5]]]], shape=(3, 2, 2, 4), dtype=int32)\n"
          ]
        }
      ]
    },
    {
      "cell_type": "code",
      "source": [
        "one_d = tensor_one_d_int.shape\n",
        "two_d = tensor_two_d.shape\n",
        "three_d = tensor_three_d.shape\n",
        "four_d = tensor_four_d.shape\n",
        "\n",
        "print(\"One Dimensional Tensor Shape: \",one_d)\n",
        "print(\"Two Dimensional Tensor Shape:(no_of_one_d, one_d_shape)\",two_d)\n",
        "print(\"Three Dimensional Tensor Shape:(no_of_two_d, two_d_shape) \",three_d)\n",
        "print(\"Four Dimensional Tensor Shape:(no_of_three_d, three_d_shape) \",four_d)"
      ],
      "metadata": {
        "colab": {
          "base_uri": "https://localhost:8080/"
        },
        "collapsed": true,
        "id": "OEN8tH-Hco5Z",
        "outputId": "a8584e7c-c4a8-4cf9-cacd-2946e7852fbf"
      },
      "execution_count": null,
      "outputs": [
        {
          "output_type": "stream",
          "name": "stdout",
          "text": [
            "One Dimensional Tensor Shape:  (4,)\n",
            "Two Dimensional Tensor Shape:(no_of_one_d, one_d_shape) (2, 4)\n",
            "Three Dimensional Tensor Shape:(no_of_two_d, two_d_shape)  (2, 2, 4)\n",
            "Four Dimensional Tensor Shape:(no_of_three_d, three_d_shape)  (3, 2, 2, 4)\n"
          ]
        }
      ]
    },
    {
      "cell_type": "code",
      "source": [],
      "metadata": {
        "id": "Zp8xENKKd-xB"
      },
      "execution_count": null,
      "outputs": []
    },
    {
      "cell_type": "markdown",
      "source": [
        "# Boolean and String Tensors"
      ],
      "metadata": {
        "id": "GWkA-zrMmkoJ"
      }
    },
    {
      "cell_type": "code",
      "source": [
        "tensor_bool = tf.constant([True,True,False])\n",
        "print(tensor_bool)"
      ],
      "metadata": {
        "colab": {
          "base_uri": "https://localhost:8080/"
        },
        "id": "MH2KMEF_mnfe",
        "outputId": "91f3192f-33a0-40b7-b629-20035a2a8c3d"
      },
      "execution_count": null,
      "outputs": [
        {
          "output_type": "stream",
          "name": "stdout",
          "text": [
            "tf.Tensor([ True  True False], shape=(3,), dtype=bool)\n"
          ]
        }
      ]
    },
    {
      "cell_type": "code",
      "source": [
        "tensor_string = tf.constant([\"hello world\",\"hi \"])\n",
        "print(tensor_string)"
      ],
      "metadata": {
        "colab": {
          "base_uri": "https://localhost:8080/"
        },
        "id": "jErDWewWmod2",
        "outputId": "1383e892-58e0-40c1-f4a1-fafabfe3f084"
      },
      "execution_count": null,
      "outputs": [
        {
          "output_type": "stream",
          "name": "stdout",
          "text": [
            "tf.Tensor([b'hello world' b'hi '], shape=(2,), dtype=string)\n"
          ]
        }
      ]
    },
    {
      "cell_type": "markdown",
      "source": [
        "# Converting numpy array to tensors"
      ],
      "metadata": {
        "id": "t1Kehz0VmuVO"
      }
    },
    {
      "cell_type": "code",
      "source": [
        "import numpy as np"
      ],
      "metadata": {
        "id": "AHY8xMoDmrZg"
      },
      "execution_count": null,
      "outputs": []
    },
    {
      "cell_type": "code",
      "source": [
        "np_arr = np.array([1,2,3,4])\n",
        "print(np_arr)"
      ],
      "metadata": {
        "colab": {
          "base_uri": "https://localhost:8080/"
        },
        "id": "qVv6BDmVmypV",
        "outputId": "8f1b30e9-d409-4afd-90b5-eb0428b5b0e0"
      },
      "execution_count": null,
      "outputs": [
        {
          "output_type": "stream",
          "name": "stdout",
          "text": [
            "[1 2 3 4]\n"
          ]
        }
      ]
    },
    {
      "cell_type": "code",
      "source": [
        "converted_tensor = tf.convert_to_tensor(np_arr)\n",
        "print(converted_tensor)"
      ],
      "metadata": {
        "colab": {
          "base_uri": "https://localhost:8080/"
        },
        "id": "xeZ-Crzcm8Z6",
        "outputId": "517533f6-66d7-4e8c-faa3-c61e4ce07c27"
      },
      "execution_count": null,
      "outputs": [
        {
          "output_type": "stream",
          "name": "stdout",
          "text": [
            "tf.Tensor([1 2 3 4], shape=(4,), dtype=int64)\n"
          ]
        }
      ]
    },
    {
      "cell_type": "markdown",
      "source": [
        "# [Eye](https://www.tensorflow.org/api_docs/python/tf/eye) - Constructs an Identity Matrix"
      ],
      "metadata": {
        "id": "WkiraphXnniJ"
      }
    },
    {
      "cell_type": "code",
      "source": [
        "eye_tensor = tf.eye(\n",
        "    num_rows=3,\n",
        "    num_columns=4,\n",
        "    batch_shape=[2,],\n",
        "    dtype=tf.dtypes.float32,\n",
        "    name=None\n",
        ")\n",
        "print(eye_tensor)"
      ],
      "metadata": {
        "colab": {
          "base_uri": "https://localhost:8080/"
        },
        "collapsed": true,
        "id": "xDIgZyxqnNwT",
        "outputId": "5af6d2d2-2dee-41fa-d210-d80472907ff0"
      },
      "execution_count": null,
      "outputs": [
        {
          "output_type": "stream",
          "name": "stdout",
          "text": [
            "tf.Tensor(\n",
            "[[[1. 0. 0. 0.]\n",
            "  [0. 1. 0. 0.]\n",
            "  [0. 0. 1. 0.]]\n",
            "\n",
            " [[1. 0. 0. 0.]\n",
            "  [0. 1. 0. 0.]\n",
            "  [0. 0. 1. 0.]]], shape=(2, 3, 4), dtype=float32)\n"
          ]
        }
      ]
    },
    {
      "cell_type": "markdown",
      "source": [
        "# [Fill Tensor](https://www.tensorflow.org/api_docs/python/tf/fill) - Creates a tensor filled with a scalar value."
      ],
      "metadata": {
        "id": "OffE90itoftG"
      }
    },
    {
      "cell_type": "code",
      "source": [
        "fill_tensor = tf.fill(\n",
        "    [5,2,3], 6, name=None, layout=None\n",
        ")\n",
        "print(fill_tensor)"
      ],
      "metadata": {
        "colab": {
          "base_uri": "https://localhost:8080/"
        },
        "collapsed": true,
        "id": "N-gLt_WWnzke",
        "outputId": "607222c2-d072-45ad-ecc0-2f593c1549b9"
      },
      "execution_count": null,
      "outputs": [
        {
          "output_type": "stream",
          "name": "stdout",
          "text": [
            "tf.Tensor(\n",
            "[[[6 6 6]\n",
            "  [6 6 6]]\n",
            "\n",
            " [[6 6 6]\n",
            "  [6 6 6]]\n",
            "\n",
            " [[6 6 6]\n",
            "  [6 6 6]]\n",
            "\n",
            " [[6 6 6]\n",
            "  [6 6 6]]\n",
            "\n",
            " [[6 6 6]\n",
            "  [6 6 6]]], shape=(5, 2, 3), dtype=int32)\n"
          ]
        }
      ]
    },
    {
      "cell_type": "markdown",
      "source": [
        "#[Ones_like](https://www.tensorflow.org/api_docs/python/tf/ones_like) - Creates a tensor of all ones that has the same shape as the input."
      ],
      "metadata": {
        "id": "gYlfKSNKpKkF"
      }
    },
    {
      "cell_type": "code",
      "source": [
        "tensor = tf.constant([[1, 2, 3], [4, 5, 6]],dtype=tf.float32)\n",
        "ones_like_tensor = tf.ones_like(tensor)\n",
        "print(ones_like_tensor)"
      ],
      "metadata": {
        "colab": {
          "base_uri": "https://localhost:8080/"
        },
        "id": "8q1tnozyorWe",
        "outputId": "5095a311-2b7f-4fd5-fcdc-c049ea4e1b16"
      },
      "execution_count": null,
      "outputs": [
        {
          "output_type": "stream",
          "name": "stdout",
          "text": [
            "tf.Tensor(\n",
            "[[1. 1. 1.]\n",
            " [1. 1. 1.]], shape=(2, 3), dtype=float32)\n"
          ]
        }
      ]
    },
    {
      "cell_type": "markdown",
      "source": [
        "# [zeros_like](https://www.tensorflow.org/api_docs/python/tf/zeros_like) - Creates a tensor with all elements set to zero."
      ],
      "metadata": {
        "id": "l4h87u2BqRdQ"
      }
    },
    {
      "cell_type": "code",
      "source": [
        "zeros_like_tensor = tf.zeros_like(tensor)\n",
        "print(zeros_like_tensor)"
      ],
      "metadata": {
        "colab": {
          "base_uri": "https://localhost:8080/"
        },
        "id": "eZxPtjAyqTd6",
        "outputId": "05bb626c-6f14-46b2-ee94-e08afe7e032e"
      },
      "execution_count": null,
      "outputs": [
        {
          "output_type": "stream",
          "name": "stdout",
          "text": [
            "tf.Tensor(\n",
            "[[0. 0. 0.]\n",
            " [0. 0. 0.]], shape=(2, 3), dtype=float32)\n"
          ]
        }
      ]
    },
    {
      "cell_type": "code",
      "source": [],
      "metadata": {
        "id": "szuCiRmcqujh"
      },
      "execution_count": null,
      "outputs": []
    },
    {
      "cell_type": "markdown",
      "source": [
        "# [Tensor Shape](https://www.tensorflow.org/api_docs/python/tf/shape)- Returns a tensor containing the shape of the input tensor.\n",
        "\n"
      ],
      "metadata": {
        "id": "dUmhxhtysR9c"
      }
    },
    {
      "cell_type": "code",
      "source": [
        "tf.shape(zeros_like_tensor)"
      ],
      "metadata": {
        "colab": {
          "base_uri": "https://localhost:8080/"
        },
        "id": "bYE1stcYshtn",
        "outputId": "7df498f7-a175-440d-dacf-ccd66e5e3423"
      },
      "execution_count": null,
      "outputs": [
        {
          "output_type": "execute_result",
          "data": {
            "text/plain": [
              "<tf.Tensor: shape=(2,), dtype=int32, numpy=array([2, 3], dtype=int32)>"
            ]
          },
          "metadata": {},
          "execution_count": 47
        }
      ]
    },
    {
      "cell_type": "code",
      "source": [],
      "metadata": {
        "id": "RqFUxiuAso5O"
      },
      "execution_count": null,
      "outputs": []
    },
    {
      "cell_type": "markdown",
      "source": [
        "# [Rank of a Tensor](https://www.tensorflow.org/api_docs/python/tf/rank)"
      ],
      "metadata": {
        "id": "Khg8YrFmsx4O"
      }
    },
    {
      "cell_type": "code",
      "source": [
        "tensor_rank = tf.rank(\n",
        "    tensor_four_d\n",
        ")\n",
        "print(tensor_rank)"
      ],
      "metadata": {
        "colab": {
          "base_uri": "https://localhost:8080/"
        },
        "id": "tIGcDU1Ps-ck",
        "outputId": "ce09c6cf-e2af-466e-da57-1a8ec74b442a"
      },
      "execution_count": null,
      "outputs": [
        {
          "output_type": "stream",
          "name": "stdout",
          "text": [
            "tf.Tensor(4, shape=(), dtype=int32)\n"
          ]
        }
      ]
    },
    {
      "cell_type": "code",
      "source": [],
      "metadata": {
        "id": "3-VR0lv0tJs4"
      },
      "execution_count": null,
      "outputs": []
    },
    {
      "cell_type": "markdown",
      "source": [
        "# [Size of tensor](https://www.tensorflow.org/api_docs/python/tf/size)"
      ],
      "metadata": {
        "id": "iPCE9v2mtcqb"
      }
    },
    {
      "cell_type": "code",
      "source": [
        "print(tf.size(tensor_one_d_int))\n",
        "print(tf.size(tensor_two_d))\n"
      ],
      "metadata": {
        "colab": {
          "base_uri": "https://localhost:8080/"
        },
        "id": "WQC1lNiEttBw",
        "outputId": "36e22121-1a32-4261-d03a-c6425dd209d6"
      },
      "execution_count": null,
      "outputs": [
        {
          "output_type": "stream",
          "name": "stdout",
          "text": [
            "tf.Tensor(4, shape=(), dtype=int32)\n",
            "tf.Tensor(8, shape=(), dtype=int32)\n"
          ]
        }
      ]
    },
    {
      "cell_type": "markdown",
      "source": [
        "# [random_normal_initializer](https://www.tensorflow.org/api_docs/python/tf/random_normal_initializer) - Initializer that generates tensors with a normal distribution."
      ],
      "metadata": {
        "id": "6YNWDIoTumbE"
      }
    },
    {
      "cell_type": "code",
      "source": [
        "random_normal_initializer_tensor = tf.random_normal_initializer(mean=0.0, stddev=1.0, seed=None\n",
        ")\n",
        "random_normal_initializer_tensor(shape=[2,3])\n",
        "\n",
        "print(tf.constant(random_normal_initializer_tensor(shape=[2,3])))\n",
        "print(tf.Variable(random_normal_initializer_tensor(shape=[2,3])))"
      ],
      "metadata": {
        "colab": {
          "base_uri": "https://localhost:8080/"
        },
        "id": "QU6iG1cOt26-",
        "outputId": "215c3fdd-e7d5-4d68-efe3-bd3f0b0e7170"
      },
      "execution_count": null,
      "outputs": [
        {
          "output_type": "stream",
          "name": "stdout",
          "text": [
            "tf.Tensor(\n",
            "[[ 1.0573303  -0.41595986 -0.42625573]\n",
            " [-0.1411322   0.30207893  0.30895996]], shape=(2, 3), dtype=float32)\n",
            "<tf.Variable 'Variable:0' shape=(2, 3) dtype=float32, numpy=\n",
            "array([[ 1.4087377 ,  0.77497876, -0.11998365],\n",
            "       [ 0.25652277, -1.0472131 ,  0.67519414]], dtype=float32)>\n"
          ]
        }
      ]
    },
    {
      "cell_type": "markdown",
      "source": [
        "# Set_seed - This is like random_state in Machine Learning"
      ],
      "metadata": {
        "id": "jHZGJQ5019hd"
      }
    },
    {
      "cell_type": "code",
      "source": [
        "tf.random.set_seed(5)\n",
        "print(tf.random.uniform(shape=[3,], maxval=5, dtype=tf.int32, seed=10))\n",
        "print(tf.random.uniform(shape=[3,], maxval=5, dtype=tf.int32, seed=10))\n",
        "print(tf.random.uniform(shape=[3,], maxval=5, dtype=tf.int32, seed=10))\n",
        "print(tf.random.uniform(shape=[3,], maxval=5, dtype=tf.int32, seed=10))"
      ],
      "metadata": {
        "colab": {
          "base_uri": "https://localhost:8080/"
        },
        "id": "_03yEjE0vbdG",
        "outputId": "50845bfb-b4cb-4a2a-84d5-6def149a4e4f"
      },
      "execution_count": null,
      "outputs": [
        {
          "output_type": "stream",
          "name": "stdout",
          "text": [
            "tf.Tensor([4 3 1], shape=(3,), dtype=int32)\n",
            "tf.Tensor([4 3 2], shape=(3,), dtype=int32)\n",
            "tf.Tensor([1 1 1], shape=(3,), dtype=int32)\n",
            "tf.Tensor([1 3 3], shape=(3,), dtype=int32)\n"
          ]
        }
      ]
    },
    {
      "cell_type": "code",
      "source": [
        "tf.random.set_seed(5)\n",
        "print(tf.random.uniform(shape=[3,], maxval=5, dtype=tf.int32, seed=10))\n",
        "print(tf.random.uniform(shape=[3,], maxval=5, dtype=tf.int32, seed=10))\n",
        "print(tf.random.uniform(shape=[3,], maxval=5, dtype=tf.int32, seed=10))\n",
        "print(tf.random.uniform(shape=[3,], maxval=5, dtype=tf.int32, seed=10))"
      ],
      "metadata": {
        "colab": {
          "base_uri": "https://localhost:8080/"
        },
        "id": "RC-cz7Xj1yhY",
        "outputId": "7798643b-31e2-4417-ae73-cd8e355434d1"
      },
      "execution_count": null,
      "outputs": [
        {
          "output_type": "stream",
          "name": "stdout",
          "text": [
            "tf.Tensor([4 3 1], shape=(3,), dtype=int32)\n",
            "tf.Tensor([4 3 2], shape=(3,), dtype=int32)\n",
            "tf.Tensor([1 1 1], shape=(3,), dtype=int32)\n",
            "tf.Tensor([1 3 3], shape=(3,), dtype=int32)\n"
          ]
        }
      ]
    },
    {
      "cell_type": "code",
      "source": [],
      "metadata": {
        "id": "_xSbtq1B110X"
      },
      "execution_count": null,
      "outputs": []
    }
  ]
}